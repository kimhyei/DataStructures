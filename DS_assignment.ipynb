{
 "cells": [
  {
   "cell_type": "markdown",
   "id": "dd5b4691-49a8-4016-8831-408dfcd51a09",
   "metadata": {},
   "source": [
    "# 1. LeetCode 225. Implement Stack using Queues\n",
    "\n",
    "    from collections import deque\n",
    "\n",
    "        class MyStack:\n",
    "            def __init__(self):\n",
    "                self.q = deque()\n",
    "\n",
    "            def push(self, x):\n",
    "                self.q.append(x)\n",
    "                for _ in range(len(self.q)-1):\n",
    "                    self.q.append(q.popleft())\n",
    "\n",
    "            def pop(self):\n",
    "                return self.q.popleft()\n",
    "\n",
    "            def top(self):\n",
    "                return self.q[0]\n",
    "\n",
    "            def empty(self):\n",
    "                return not self.q\n",
    "        \n",
    "        "
   ]
  }
 ],
 "metadata": {
  "kernelspec": {
   "display_name": "Python [conda env:base] *",
   "language": "python",
   "name": "conda-base-py"
  },
  "language_info": {
   "codemirror_mode": {
    "name": "ipython",
    "version": 3
   },
   "file_extension": ".py",
   "mimetype": "text/x-python",
   "name": "python",
   "nbconvert_exporter": "python",
   "pygments_lexer": "ipython3",
   "version": "3.12.7"
  }
 },
 "nbformat": 4,
 "nbformat_minor": 5
}
