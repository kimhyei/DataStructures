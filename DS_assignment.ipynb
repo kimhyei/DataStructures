{
 "cells": [
  {
   "cell_type": "markdown",
   "id": "e2f31783-8cef-45bd-a155-04a491e75c2b",
   "metadata": {
    "panel-layout": {
     "height": 60.57500457763672,
     "visible": true,
     "width": 100
    }
   },
   "source": [
    "# 1. LeetCode 225. Implement Stack using Queues"
   ]
  },
  {
   "cell_type": "code",
   "execution_count": null,
   "id": "84724b34-2bc6-4039-87c5-55f713ddd8a3",
   "metadata": {},
   "outputs": [],
   "source": [
    "from collections import deque\n",
    "\n",
    "class MyStack:\n",
    "    def __init__(self):\n",
    "        self.q = deque()\n",
    "\n",
    "    def push(self, x):\n",
    "        self.q.append(x)\n",
    "        for _ in range(len(self.q)-1):\n",
    "            self.q.append(q.popleft())\n",
    "\n",
    "    def pop(self):\n",
    "        return self.q.popleft()\n",
    "\n",
    "    def top(self):\n",
    "        return self.q[0]\n",
    "\n",
    "    def empty(self):\n",
    "        return not self.q"
   ]
  },
  {
   "cell_type": "markdown",
   "id": "b4104425-0e3b-46c7-a082-bc39691f0e65",
   "metadata": {},
   "source": [
    "# 2. LeetCode 232. Implement Queue using Stacks"
   ]
  },
  {
   "cell_type": "code",
   "execution_count": null,
   "id": "9e1a919f-fe47-4ab3-b3ab-7ca5da12d9e5",
   "metadata": {},
   "outputs": [],
   "source": [
    "class MyQueue:\n",
    "\n",
    "    def __init__(self):\n",
    "        self.stack_in = []\n",
    "        self.stack_out = []\n",
    "\n",
    "    def push(self, x):\n",
    "        self.stack_in.append(x)\n",
    "\n",
    "    def pop(self):\n",
    "        if not self.stack_out:\n",
    "            while self.stack_in:\n",
    "                self.stack_out.append(self.stack_in.pop())\n",
    "        return self.stack_out.pop()\n",
    "\n",
    "    def empty(self):\n",
    "        return not self.stack_in and not self.stack_out"
   ]
  },
  {
   "cell_type": "markdown",
   "id": "d7b57d03-c83c-4847-bcc1-f6e683fe6445",
   "metadata": {},
   "source": [
    "# 3. Chapter 07 연습문제 "
   ]
  },
  {
   "cell_type": "markdown",
   "id": "5a899660-9ab2-4413-9ebd-6fdcd864e8ba",
   "metadata": {},
   "source": [
    "## 3.1"
   ]
  },
  {
   "cell_type": "code",
   "execution_count": null,
   "id": "8e54612b-f060-475f-a993-8caa58f63130",
   "metadata": {},
   "outputs": [],
   "source": [
    "class ListQueue:\n",
    "    def __init__(self):\n",
    "        self.__queue = []\n",
    "\n",
    "    def enqueue(self, x):\n",
    "        self.__queue.insert(0, x)\n",
    "\n",
    "    def dequeue(self):\n",
    "        return self.__queue.pop()\n",
    "\n",
    "    def front(self):\n",
    "        return self.__queue[-1]\n",
    "\n",
    "    def isEmpty(self) -> bool:\n",
    "        return len(self.__queue) == 0\n",
    "\n",
    "    def dequeueAll(self):\n",
    "        self.__queue.clear()"
   ]
  },
  {
   "cell_type": "markdown",
   "id": "c7b0b760-99c9-46fa-9f52-2fd7fde217dc",
   "metadata": {},
   "source": [
    "## 3.2"
   ]
  },
  {
   "cell_type": "code",
   "execution_count": null,
   "id": "0f9e7a9a-c7d1-4676-b29f-c7a2ba00b8f9",
   "metadata": {},
   "outputs": [],
   "source": [
    "from collections import deque\n",
    "\n",
    "def check(s):\n",
    "    q = deque(s)\n",
    "    w1 = []\n",
    "\n",
    "    while q:\n",
    "        ch = q.popleft()\n",
    "        if ch == '$':\n",
    "            break\n",
    "        w1.append(ch)\n",
    "\n",
    "    if ch != '$' or len(q) != len(w1):\n",
    "        return False\n",
    "\n",
    "    for ch in w1:\n",
    "        if q.popleft() != ch:\n",
    "            return False\n",
    "    return True"
   ]
  },
  {
   "cell_type": "markdown",
   "id": "8b6948d9-bf7a-4551-ae1e-d5ff48c7b4fa",
   "metadata": {},
   "source": [
    "## 3.3"
   ]
  },
  {
   "cell_type": "code",
   "execution_count": null,
   "id": "9df9a32f-3910-4021-874a-57d03dc6b4e9",
   "metadata": {},
   "outputs": [],
   "source": [
    "def copyLinkedQueue(a):\n",
    "    b = LinkedQueue()\n",
    "    temp = LinkedQueue()\n",
    "\n",
    "    while not a.isEmpty():\n",
    "        data = a.dequeue()\n",
    "        b.enqueue(data)\n",
    "        temp.enqueue(data)\n",
    "\n",
    "    while not temp.isEmpty():\n",
    "        a.enqueue(temp.dequeue())\n",
    "\n",
    "    return b"
   ]
  },
  {
   "cell_type": "markdown",
   "id": "952f0781-f146-4b30-bd74-a8ab0243a9d9",
   "metadata": {},
   "source": [
    "## 3.4"
   ]
  },
  {
   "cell_type": "code",
   "execution_count": null,
   "id": "d00346e0-9e9f-4c10-9b92-86daa207f631",
   "metadata": {},
   "outputs": [],
   "source": [
    "from collections import deque\n",
    "\n",
    "class StackUsingQueues:\n",
    "    def __init__(self):\n",
    "        self.q1 = deque()\n",
    "        self.q2 = deque()\n",
    "\n",
    "    def push(self, x):\n",
    "        self.q1.append(x)\n",
    "\n",
    "    def pop(self):\n",
    "        while len(self.q1) > 1:\n",
    "            self.q2.append(self.q1.popleft())\n",
    "        \n",
    "        popped = self.q1.popleft()\n",
    "        self.q1, self.q2 = self.q2, self.q1\n",
    "\n",
    "        return popped\n"
   ]
  },
  {
   "cell_type": "markdown",
   "id": "f6cee5ba-a71a-43f9-a64a-b61ff39aeb02",
   "metadata": {},
   "source": [
    "## 3.5"
   ]
  },
  {
   "cell_type": "code",
   "execution_count": null,
   "id": "adf86a21-d54b-4c38-8f72-dce2fe40bfb2",
   "metadata": {},
   "outputs": [],
   "source": [
    "class QueueUsingStacks:\n",
    "    def __init__(self):\n",
    "        self.s1 = []\n",
    "        self.s2 = [] \n",
    "\n",
    "    def enqueue(self, x):\n",
    "        self.s1.append(x)\n",
    "\n",
    "    def dequeue(self):\n",
    "        if not self.s2:\n",
    "            while self.s1:\n",
    "                self.s2.append(self.s1.pop())\n",
    "        if self.s2:\n",
    "            return self.s2.pop()"
   ]
  },
  {
   "cell_type": "markdown",
   "id": "311e1200-a687-4435-9759-703ca1f371e8",
   "metadata": {},
   "source": [
    "## 3.6\n",
    "### enqueue()와 dequeue()의 맨 앞과 맨 뒤에서의 수행 시간은 둘 다 O(1)일 것이다."
   ]
  },
  {
   "cell_type": "markdown",
   "id": "03206791-dca0-4dde-b044-5b9b44d2ff41",
   "metadata": {},
   "source": [
    "## 3.7\n",
    "### 맨 뒤에서의 enqueue()와 dequeue()는 O(n)만큼 걸릴 것이고, 맨 앞에서의 enqueue()와 dequeue()는 O(1)일 것이다."
   ]
  },
  {
   "cell_type": "markdown",
   "id": "36813700-bb46-4cb8-a582-1a99b90c693b",
   "metadata": {},
   "source": [
    "## 3.8"
   ]
  },
  {
   "cell_type": "code",
   "execution_count": null,
   "id": "22346383-be4c-472b-bb5b-6fb5164ea6fc",
   "metadata": {},
   "outputs": [],
   "source": [
    "class Deque:\n",
    "    def __init__(self):\n",
    "        self.__deque = []\n",
    "\n",
    "    def enqueueRear(self, x):\n",
    "        self.__deque.append(x)\n",
    "\n",
    "    def enqueueFront(self, x):\n",
    "        self.__deque.insert(0, x)\n",
    "\n",
    "    def dequeueFront(self):\n",
    "        return self.__deque.pop(0)\n",
    "\n",
    "    def dequeueRear(self):\n",
    "        return self.__deque.pop()\n",
    "\n",
    "    def front(self):\n",
    "        if self.isEmpty():\n",
    "            return None\n",
    "        else:\n",
    "            return self.__deque[0]\n",
    "\n",
    "    def rear(self):\n",
    "        if self.isEmpty():\n",
    "            return None\n",
    "        else:\n",
    "            return self.__deque[-1]\n",
    "\n",
    "    def isEmpty(self) -> bool:\n",
    "        return len(self.__deque) == 0\n",
    "\n",
    "    def dequeueAll(self):\n",
    "        self.__deque.clear()\n",
    "\n",
    "    def printDeque(self):\n",
    "        print(\"Deque from front:\", end = ' ')\n",
    "        for i in range(len(self.__deque)):\n",
    "            print(self.__deque[i], end=' ')\n",
    "        print()"
   ]
  }
 ],
 "metadata": {
  "kernelspec": {
   "display_name": "Python [conda env:base] *",
   "language": "python",
   "name": "conda-base-py"
  },
  "language_info": {
   "codemirror_mode": {
    "name": "ipython",
    "version": 3
   },
   "file_extension": ".py",
   "mimetype": "text/x-python",
   "name": "python",
   "nbconvert_exporter": "python",
   "pygments_lexer": "ipython3",
   "version": "3.12.7"
  },
  "panel-cell-order": [
   "e2f31783-8cef-45bd-a155-04a491e75c2b"
  ]
 },
 "nbformat": 4,
 "nbformat_minor": 5
}
