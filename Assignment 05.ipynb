{
 "cells": [
  {
   "cell_type": "markdown",
   "id": "7d9727c9-e66a-46f8-8eb7-d1dfc32ede11",
   "metadata": {},
   "source": [
    "# 3. 생일이 느린 순서로 10명의 친구를 출력하는 코드"
   ]
  },
  {
   "cell_type": "code",
   "execution_count": 11,
   "id": "51cfd10f-7ec5-44e5-8cfd-77385edada09",
   "metadata": {},
   "outputs": [
    {
     "name": "stdout",
     "output_type": "stream",
     "text": [
      "생일이 가장 늦은 친구 10명:\n",
      "1. 홍서연 - 20241282\n",
      "2. 신수민 - 20051230\n",
      "3. 이서영 - 20051225\n",
      "4. 강민주 - 20051214\n",
      "5. 김민경 - 20051202\n",
      "6. 이서영 - 20051112\n",
      "7. 배시은 - 20051102\n",
      "8. 김여원 - 20051031\n",
      "9. 이서진 - 20051028\n",
      "10. 서홍빈 - 20051024\n"
     ]
    }
   ],
   "source": [
    "import pandas as pd\n",
    "\n",
    "class Heap:\n",
    "    def __init__(self, *args):\n",
    "        if len(args) != 0:\n",
    "            self.__A = args[0] \n",
    "        else:\n",
    "            self.__A = []\n",
    "\n",
    "    def insert(self, x):\n",
    "        self.__A.append(x)\n",
    "        self.__percolateUp(len(self.__A) - 1)\n",
    "                           \n",
    "    def __percolateUp(self, i: int):\n",
    "        parent = (i - 1) // 2\n",
    "        if i > 0 and self.__A[i] > self.__A[parent]:\n",
    "            self.__A[i], self.__A[parent] = self.__A[parent], self.__A[i]\n",
    "            self.__percolateUp(parent)\n",
    "            \n",
    "    def deleteMax(self):\n",
    "        if (not self.isEmpty()):\n",
    "            max = self.__A[0]\n",
    "            self.__A[0] = self.__A.pop()\n",
    "            self.__percolateDown(0)\n",
    "            return max\n",
    "        else:\n",
    "            return None\n",
    "\n",
    "    def __percolateDown(self, i: int):\n",
    "        child = 2 * i + 1  \n",
    "        right = 2 * i + 2  \n",
    "        if (child <= len(self.__A) - 1):\n",
    "            if (right <= len(self.__A) - 1 and self.__A[child] < self.__A[right]):\n",
    "                child = right  \n",
    "            if self.__A[i] < self.__A[child]:\n",
    "                self.__A[i], self.__A[child] = self.__A[child], self.__A[i]\n",
    "                self.__percolateDown(child)\n",
    "\n",
    "    def max(self):\n",
    "        return self.__A[0]\n",
    "\n",
    "    def buildHeap(self):\n",
    "        for i in range((len(self.__A) - 2) // 2, -1, -1):\n",
    "            self.__percolateDown(i)\n",
    "\n",
    "    def isEmpty(self) -> bool:\n",
    "        return len(self.__A) == 0\n",
    "\n",
    "    def clear(self):\n",
    "        self.__A = []\n",
    "\n",
    "    def size(self) -> int:\n",
    "        return len(self.__A)\n",
    "\n",
    "df = pd.read_csv(\"birthday.csv\")\n",
    "\n",
    "heap = Heap()\n",
    "for _, row in df.iterrows():\n",
    "    name = row[\"이름\"]\n",
    "    birth = row[\"생년월일\"]\n",
    "    heap.insert((birth, name))\n",
    "\n",
    "print(\"생일이 가장 늦은 친구 10명:\")\n",
    "for i in range(10):\n",
    "    if not heap.isEmpty():\n",
    "        birth, name = heap.deleteMax()\n",
    "        print(f\"{i+1}. {name} - {birth}\")\n"
   ]
  },
  {
   "cell_type": "markdown",
   "id": "6a67d807-d920-45e1-b5f8-e9ff0c4f649a",
   "metadata": {},
   "source": [
    "# 4. 같은 조(지난 과제 지정 조원 참조)의 친구들만 이름과 생년월일을 출력하는 코드"
   ]
  },
  {
   "cell_type": "code",
   "execution_count": 17,
   "id": "bdb52e42-2c02-4884-b276-de44244ecbe0",
   "metadata": {},
   "outputs": [
    {
     "name": "stdout",
     "output_type": "stream",
     "text": [
      "같은 조 친구들의 생일:\n",
      "- 강수아: 20041103\n",
      "- 김민주: 20040517\n",
      "- 김민주: 20041026\n",
      "- 김서빈: 20040628\n",
      "- 김선민: 0\n",
      "- 김예빈: 20051019\n",
      "- 김주하: 20050417\n",
      "- 김채민: 20050910\n",
      "- 김혜인: 20051001\n",
      "- 배시은: 20051102\n",
      "- 송민서: 20041108\n",
      "- 신희영: 20050126\n",
      "- 안수민: 20030603\n",
      "- 오예준: 20050712\n",
      "- 최가온: 20051008\n"
     ]
    }
   ],
   "source": [
    "import pandas as pd\n",
    "\n",
    "class Node:\n",
    "    def __init__(self, name, birthday):\n",
    "        self.name = name\n",
    "        self.birthday = birthday\n",
    "        self.prev = None\n",
    "        self.next = None\n",
    "\n",
    "class CircularDoublyLinkedList:\n",
    "    def __init__(self):\n",
    "        self.head = Node(None, None)\n",
    "        self.head.prev = self.head\n",
    "        self.head.next = self.head\n",
    "\n",
    "    def insert(self, name, birthday):\n",
    "        new_node = Node(name, birthday)\n",
    "        last = self.head.prev\n",
    "        new_node.prev = last\n",
    "        new_node.next = self.head\n",
    "        last.next = new_node\n",
    "        self.head.prev = new_node\n",
    "\n",
    "    def find_by_names(self, name_list):\n",
    "        result = []\n",
    "        current = self.head.next\n",
    "        while current != self.head:\n",
    "            if current.name in name_list:\n",
    "                result.append((current.name, current.birthday))\n",
    "            current = current.next\n",
    "        return result\n",
    "\n",
    "df = pd.read_csv(\"birthday.csv\")\n",
    "\n",
    "my_team = [\n",
    "    \"송민서\", \"안수민\", \"오예준\", \"진혜윤\", \"김채민\",\n",
    "    \"김예빈\", \"신희영\", \"김선민\", \"김혜인\", \"김주하\",\n",
    "    \"김민주\", \"최가온\", \"배시은\", \"강수아\", \"김서빈\"\n",
    "]\n",
    "\n",
    "cdll = CircularDoublyLinkedList()\n",
    "for _, row in df.iterrows():\n",
    "    name = row[\"이름\"]\n",
    "    birth = row[\"생년월일\"]\n",
    "    cdll.insert(name, birth)\n",
    "\n",
    "team_birthdays = cdll.find_by_names(my_team)\n",
    "\n",
    "print(\"같은 조 친구들의 생일:\")\n",
    "for name, birth in team_birthdays:\n",
    "    print(f\"- {name}: {birth}\")\n"
   ]
  },
  {
   "cell_type": "markdown",
   "id": "3dc174c4-2f90-4331-acee-c20648032905",
   "metadata": {},
   "source": [
    "# 5. 교재 8장 우선 순위 큐 연습문제"
   ]
  },
  {
   "cell_type": "markdown",
   "id": "4f676d2b-36f4-446d-8532-745150b4e5f7",
   "metadata": {},
   "source": [
    "## 01\n",
    "가질 수 없다. 최대 힙은 얕은 곳(부모 노드)이 깊은 곳(자식 노드)보다 커야 하므로  더 작은 값을 가질 수 없다.\n",
    "## 02\n",
    "아니다. 최대 힙은 부모 노드가 자식 노드보다 크다는 조건만 보장하기 때문이다. 같은 계층 간 비교는 하지 않기에 마지막 원소가 항상 가장 작은 값을 가진다고 할 수 없다.\n",
    "## 03\n",
    "n/2개 이다. 이진 힙은 완전 이진 트리이며, 리프 노드는 그냥 넘어가도 되기 때문이다.\n",
    "## 04\n",
    "최악 시간 복잡도: Θ(log n)\n",
    "최선 시간 복잡도: Θ(n)\n",
    "최악의 경우 모든 층을 확인해야 하고 최선의 경우 한 번 비교하고 끝나기 때문이다.\n",
    "## 05\n",
    "그렇다. 재정렬 등 추가 작업이 필요하지 않기 때문이다.\n",
    "## 06\n",
    "더 효율적이지 않다. 본문에서 제시한 방법의 시간복잡도는 Θ(n)이고, 학생이 제안한 방법의 시간복잡도는 Θ(n log n)이다.\n",
    "## 07\n",
    "임의의 원소 값이 커지면 부모 노드보다 커졌을 가능성이 있기에 다시 수선해야 한다. 스며올리기를 통하여 수선하면 된다."
   ]
  },
  {
   "cell_type": "markdown",
   "id": "eadf2659-772f-4f42-a71b-aa9f29ece6d4",
   "metadata": {},
   "source": [
    "# 6. LeetCode 703.Kth Largest Element in Stream"
   ]
  },
  {
   "cell_type": "code",
   "execution_count": 19,
   "id": "091910d8-b6ac-49e5-bc40-c0fbc431d434",
   "metadata": {},
   "outputs": [],
   "source": [
    "import heapq\n",
    "\n",
    "class KthLargest:\n",
    "\n",
    "    def __init__(self, k: int, nums: list[int]):\n",
    "        self.k = k\n",
    "        self.min_heap = nums\n",
    "        heapq.heapify(self.min_heap)\n",
    "        \n",
    "        while len(self.min_heap) > k:\n",
    "            heapq.heappop(self.min_heap)\n",
    "\n",
    "    def add(self, val: int) -> int:\n",
    "        heapq.heappush(self.min_heap, val)\n",
    "        \n",
    "        if len(self.min_heap) > self.k:\n",
    "            heapq.heappop(self.min_heap)\n",
    "        \n",
    "        return self.min_heap[0]"
   ]
  }
 ],
 "metadata": {
  "kernelspec": {
   "display_name": "Python [conda env:base] *",
   "language": "python",
   "name": "conda-base-py"
  },
  "language_info": {
   "codemirror_mode": {
    "name": "ipython",
    "version": 3
   },
   "file_extension": ".py",
   "mimetype": "text/x-python",
   "name": "python",
   "nbconvert_exporter": "python",
   "pygments_lexer": "ipython3",
   "version": "3.12.7"
  }
 },
 "nbformat": 4,
 "nbformat_minor": 5
}
